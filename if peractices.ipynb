{
 "cells": [
  {
   "cell_type": "markdown",
   "id": "67869711",
   "metadata": {},
   "source": [
    "1. write a code that take 3 numbers from user and arrange them in order"
   ]
  },
  {
   "cell_type": "code",
   "execution_count": 2,
   "id": "8750111f",
   "metadata": {},
   "outputs": [
    {
     "name": "stdout",
     "output_type": "stream",
     "text": [
      "etner 3 numbers and separate them  with space:8 1 6\n",
      "1 6 8\n"
     ]
    }
   ],
   "source": [
    "a,b,c=input('etner 3 numbers and separate them  with space:').split()\n",
    "if a<b<c:\n",
    "    print(a,b,c)\n",
    "elif a<c<b:\n",
    "    print(a,c,b)\n",
    "elif b<a<c:\n",
    "    print(b,a,c)\n",
    "elif b<c<a:\n",
    "    print(b,c,a)\n",
    "elif c<a<b:\n",
    "    print(c,a,b)\n",
    "else:\n",
    "    print(c,b,a)\n"
   ]
  },
  {
   "cell_type": "markdown",
   "id": "7ee377f9",
   "metadata": {},
   "source": [
    "2.write a code that takes 3 numbers from user and inform us whether these 3 numbers can form a triangle or not"
   ]
  },
  {
   "cell_type": "code",
   "execution_count": 64,
   "id": "0c28c056",
   "metadata": {},
   "outputs": [
    {
     "name": "stdout",
     "output_type": "stream",
     "text": [
      "a=1\n",
      "b=2\n",
      "c=3\n",
      "they can not make a triangle\n"
     ]
    }
   ],
   "source": [
    "a=int(input('a='))\n",
    "b=int(input('b='))\n",
    "c=int(input('c='))\n",
    "if a!=0 and b!=0 and c!=0:\n",
    "    if a+b>c and a+c>b and b+c>a:\n",
    "        print('they can make a triangle')\n",
    "    else:\n",
    "        print('they can not make a triangle')"
   ]
  },
  {
   "cell_type": "markdown",
   "id": "80b79a96",
   "metadata": {},
   "source": [
    "3. write a code that takes 2 numbers from user. if dividing any number by another becoms zero,print \"yes\",otherwise print \"no\""
   ]
  },
  {
   "cell_type": "code",
   "execution_count": 83,
   "id": "a403ea3f",
   "metadata": {
    "scrolled": true
   },
   "outputs": [
    {
     "name": "stdout",
     "output_type": "stream",
     "text": [
      "a=2\n",
      "b=4\n",
      "yes\n"
     ]
    }
   ],
   "source": [
    "a=int(input('a='))\n",
    "b=int(input('b='))\n",
    "if a%b==0 or b%a==0:\n",
    "    print('yes')\n",
    "else:\n",
    "    print('no')"
   ]
  },
  {
   "cell_type": "markdown",
   "id": "95116ede",
   "metadata": {},
   "source": [
    "4. write a code that take 3 numbers from user.If they can make a right angle,print the side, otherwise, print the primeter\n"
   ]
  },
  {
   "cell_type": "code",
   "execution_count": 1,
   "id": "a6c30fc3",
   "metadata": {},
   "outputs": [
    {
     "name": "stdout",
     "output_type": "stream",
     "text": [
      "enter the masure of a:4\n",
      "enter the masure of b:5\n",
      "enter the masure of c:7\n",
      "the primeter is: 16\n"
     ]
    }
   ],
   "source": [
    "a=int(input(\"enter the masure of a:\"))\n",
    "b=int(input(\"enter the masure of b:\"))\n",
    "c=int(input(\"enter the masure of c:\"))\n",
    "if c**2==a**2+b**2:\n",
    "    print(\"the side is:\",a*b/2)\n",
    "elif b**2==a**2+c**2:\n",
    "    print(\"the side is:\",a*c/2)\n",
    "elif a**2==b**2+c**2:\n",
    "    print(\"the side is:\",b*c/2)\n",
    "else:\n",
    "    print(\"the primeter is:\",a+b+c)\n",
    "    "
   ]
  },
  {
   "cell_type": "markdown",
   "id": "7a3444a3",
   "metadata": {},
   "source": [
    "5. write a program that reads a character representing a color from the input and shows what color we chose.You must enter \"e\"\n",
    "or \"E\" to exit."
   ]
  },
  {
   "cell_type": "code",
   "execution_count": null,
   "id": "233d75ad",
   "metadata": {},
   "outputs": [
    {
     "name": "stdout",
     "output_type": "stream",
     "text": [
      "a letter among r,y,b,o,w: r\n",
      "red\n"
     ]
    }
   ],
   "source": [
    "list1=[\"red\",\"yellow\",\"black\",\"orange\",\"white\"]\n",
    "while True:\n",
    "    x=input(\"a letter among r,y,b,o,w: \")\n",
    "    if x==\"r\" or x==\"R\":\n",
    "        print(list1[0])\n",
    "    elif x==\"y\" or \"Y\":\n",
    "        print(list1[1])\n",
    "    elif x==\"b\" or x==\"B\":\n",
    "        print(list1[2])\n",
    "    elif x==\"o\" or x==\"O\":\n",
    "        print(list1[3])\n",
    "    elif x==\"e\" or x==\"E\":\n",
    "        print(\"end\")\n",
    "        break\n",
    "    else:\n",
    "        print(\"invalid\")"
   ]
  },
  {
   "cell_type": "code",
   "execution_count": null,
   "id": "3ebf8024",
   "metadata": {},
   "outputs": [],
   "source": []
  }
 ],
 "metadata": {
  "kernelspec": {
   "display_name": "Python 3 (ipykernel)",
   "language": "python",
   "name": "python3"
  },
  "language_info": {
   "codemirror_mode": {
    "name": "ipython",
    "version": 3
   },
   "file_extension": ".py",
   "mimetype": "text/x-python",
   "name": "python",
   "nbconvert_exporter": "python",
   "pygments_lexer": "ipython3",
   "version": "3.11.4"
  }
 },
 "nbformat": 4,
 "nbformat_minor": 5
}
