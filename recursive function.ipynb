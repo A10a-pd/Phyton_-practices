{
 "cells": [
  {
   "cell_type": "markdown",
   "id": "96dccb58",
   "metadata": {},
   "source": [
    "write a programme to calculate it:\"1!+2!+...+n!\""
   ]
  },
  {
   "cell_type": "code",
   "execution_count": 38,
   "id": "7c2ee925",
   "metadata": {},
   "outputs": [
    {
     "name": "stdout",
     "output_type": "stream",
     "text": [
      "enter a number: 2\n",
      "3\n"
     ]
    }
   ],
   "source": [
    "n=int(input(\"enter a number: \"))\n",
    "i=1\n",
    "f=1\n",
    "s=0\n",
    "while i<=n:\n",
    "    f=i*f\n",
    "    s=s+f\n",
    "    i+=1\n",
    "print(s)    "
   ]
  },
  {
   "cell_type": "markdown",
   "id": "b4e411ab",
   "metadata": {},
   "source": [
    "write a programme that can recognize the input is a letter or a number"
   ]
  },
  {
   "cell_type": "code",
   "execution_count": 51,
   "id": "b60234a4",
   "metadata": {},
   "outputs": [
    {
     "name": "stdout",
     "output_type": "stream",
     "text": [
      "enter a letter or a number: 1\n",
      "1 is a number\n"
     ]
    }
   ],
   "source": [
    "a=\"abcdefghijklmnopqrstuvwxyz\"\n",
    "b=\"ABCDEFGHIJKLMNOPQRSTUVWXYZ\"\n",
    "c=\"0123456789\"\n",
    "d=input(\"enter a letter or a number: \")\n",
    "if d in a:\n",
    "    print(f'{d} is a lower case letter')\n",
    "elif d in b:\n",
    "    print(f'{d} is an upper case letter')\n",
    "elif d in c:\n",
    "    print(f'{d} is a number')\n",
    "\n",
    "    \n",
    "          "
   ]
  },
  {
   "cell_type": "markdown",
   "id": "ce7254ba",
   "metadata": {},
   "source": [
    "write a program that can calculate the Fibonacci sequence"
   ]
  },
  {
   "cell_type": "code",
   "execution_count": 49,
   "id": "3d47464e",
   "metadata": {},
   "outputs": [
    {
     "name": "stdout",
     "output_type": "stream",
     "text": [
      "enter a number: 9\n",
      "34\n"
     ]
    }
   ],
   "source": [
    "n=int(input(\"enter a number: \"))\n",
    "def f(n):\n",
    "    if n<0:\n",
    "        return \"invalid\"\n",
    "    elif n==0:\n",
    "        return 0\n",
    "    elif n==1:\n",
    "        return 1\n",
    "    else:\n",
    "        return f(n-1)+f(n-2)\n",
    "print(f(n-1)+f(n-2)) "
   ]
  },
  {
   "cell_type": "code",
   "execution_count": null,
   "id": "8ef91944",
   "metadata": {},
   "outputs": [],
   "source": []
  }
 ],
 "metadata": {
  "kernelspec": {
   "display_name": "Python 3 (ipykernel)",
   "language": "python",
   "name": "python3"
  },
  "language_info": {
   "codemirror_mode": {
    "name": "ipython",
    "version": 3
   },
   "file_extension": ".py",
   "mimetype": "text/x-python",
   "name": "python",
   "nbconvert_exporter": "python",
   "pygments_lexer": "ipython3",
   "version": "3.11.4"
  }
 },
 "nbformat": 4,
 "nbformat_minor": 5
}
