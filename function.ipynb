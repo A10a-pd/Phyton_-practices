{
 "cells": [
  {
   "cell_type": "markdown",
   "id": "3f63b1d6",
   "metadata": {},
   "source": []
  },
  {
   "cell_type": "code",
   "execution_count": 1,
   "id": "cfc41f96",
   "metadata": {},
   "outputs": [
    {
     "name": "stdout",
     "output_type": "stream",
     "text": [
      "enter a string of numbers:123456\n",
      "this string is not polindrome\n"
     ]
    }
   ],
   "source": [
    "string=input(\"enter a string of numbers:\")   \n",
    "if string==string[::-1]:\n",
    "    print(\"this string is palindrome\")\n",
    "else:\n",
    "    print(\"this string is not polindrome\")"
   ]
  },
  {
   "cell_type": "markdown",
   "id": "76f744bd",
   "metadata": {},
   "source": [
    "write a progromMe that can recognize how many nucleotides are different between 2 strings of a DNA(Hamming Distance)"
   ]
  },
  {
   "cell_type": "code",
   "execution_count": 2,
   "id": "66c9f1b7",
   "metadata": {},
   "outputs": [
    {
     "name": "stdout",
     "output_type": "stream",
     "text": [
      "enter the string involve some letters among A,T,G,C: AATTCG\n",
      "enter the string involve some letters among A,T,G,C: AACCGT\n",
      "AATTCG has \"4\" different nucleutides with AACCGT\n"
     ]
    }
   ],
   "source": [
    "def heming_distance(str1,str2):\n",
    "    difference=0\n",
    "    l=len(str1)\n",
    "    for i in range(l):\n",
    "        if str1[i]!=str2[i]:\n",
    "            difference+=1\n",
    "    return difference              \n",
    "\n",
    "str1=input(\"enter the string involve some letters among A,T,G,C: \")\n",
    "str2=input(\"enter the string involve some letters among A,T,G,C: \")\n",
    "print(f'{str1} has \"{heming_distance(str1,str2)}\" different nucleutides with {str2}')\n"
   ]
  },
  {
   "cell_type": "markdown",
   "id": "60d22fce",
   "metadata": {},
   "source": [
    "write a programme to create a simple calculator"
   ]
  },
  {
   "cell_type": "code",
   "execution_count": null,
   "id": "e46cba90",
   "metadata": {},
   "outputs": [],
   "source": [
    "first method:"
   ]
  },
  {
   "cell_type": "code",
   "execution_count": 4,
   "id": "2b5175a4",
   "metadata": {},
   "outputs": [
    {
     "name": "stdout",
     "output_type": "stream",
     "text": [
      "enter your number: 2\n",
      "enter your number: 3\n",
      "enter a math operation among +,-,*,/: *\n",
      "2*3=6\n"
     ]
    }
   ],
   "source": [
    "number1=int(input(\"enter your number: \"))\n",
    "number2=int(input(\"enter your number: \"))\n",
    "operation=input(\"enter a math operation among +,-,*,/: \")\n",
    "if operation==\"+\":\n",
    "    outputnumber=number1+number2\n",
    "    print(f\"{number1}+{number2}={outputnumber}\")\n",
    "elif operation==\"-\":\n",
    "    outputnumber=number1-number2\n",
    "    print(f\"{number1}-{number2}={outputnumber}\")\n",
    "elif operation==\"*\":\n",
    "    outputnumber=number1*number2\n",
    "    print(f\"{number1}*{number2}={outputnumber}\")\n",
    "elif operation==\"/\":\n",
    "    outputnumber=number1/number2\n",
    "    print(f\"{number1}/{number2}={outputnumber}\") \n",
    "else:\n",
    "    \"this chaeacter is invalid.\"\n",
    "    \n",
    "    \n",
    "      "
   ]
  },
  {
   "cell_type": "code",
   "execution_count": null,
   "id": "6f2d4577",
   "metadata": {},
   "outputs": [],
   "source": [
    "second method:"
   ]
  },
  {
   "cell_type": "code",
   "execution_count": 9,
   "id": "6f26614b",
   "metadata": {},
   "outputs": [
    {
     "name": "stdout",
     "output_type": "stream",
     "text": [
      "the operations are:\n",
      "1.add 2.sub 3.mul 4.div:\n",
      "enter your operation: 3\n",
      "enter your first number: 2\n",
      "enter your second number: 3\n",
      "2 * 3 = 6\n"
     ]
    }
   ],
   "source": [
    "def add(a,b):\n",
    "    return a+b\n",
    "def sub(a,b):\n",
    "    return a-b\n",
    "def mul(a,b):\n",
    "    return a*b\n",
    "def div(a,b):\n",
    "    return a/b\n",
    "print(\"the operations are:\")\n",
    "print(\"1.add 2.sub 3.mul 4.div:\")\n",
    "selection=input(\"enter your operation: \")\n",
    "number1=int(input(\"enter your first number: \"))\n",
    "number2=int(input(\"enter your second number: \"))\n",
    "\n",
    "if selection==\"1\":\n",
    "    print(number1,\"+\",number2,\"=\",add(number1,number2))\n",
    "elif selection==\"2\":\n",
    "    print(number1,\"-\",number2,\"=\",sub(number1,number2))\n",
    "elif selection==\"3\":\n",
    "    print(number1,\"*\",number2,\"=\",mul(number1,number2))\n",
    "elif selection==\"4\":\n",
    "    print(number1,\"/\",number2,\"=\",div(number1,number2))\n",
    "else:\n",
    "    print(\"invalid input\")\n"
   ]
  },
  {
   "cell_type": "code",
   "execution_count": null,
   "id": "a79a7d35",
   "metadata": {},
   "outputs": [],
   "source": []
  }
 ],
 "metadata": {
  "kernelspec": {
   "display_name": "Python 3 (ipykernel)",
   "language": "python",
   "name": "python3"
  },
  "language_info": {
   "codemirror_mode": {
    "name": "ipython",
    "version": 3
   },
   "file_extension": ".py",
   "mimetype": "text/x-python",
   "name": "python",
   "nbconvert_exporter": "python",
   "pygments_lexer": "ipython3",
   "version": "3.11.4"
  }
 },
 "nbformat": 4,
 "nbformat_minor": 5
}
