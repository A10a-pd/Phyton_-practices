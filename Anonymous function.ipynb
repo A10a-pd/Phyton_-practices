{
 "cells": [
  {
   "cell_type": "markdown",
   "id": "7903ebec",
   "metadata": {},
   "source": [
    "creat a lambda function that multiplies argument x with argument y and print  the result"
   ]
  },
  {
   "cell_type": "code",
   "execution_count": 2,
   "id": "95588dbf",
   "metadata": {
    "scrolled": true
   },
   "outputs": [
    {
     "name": "stdout",
     "output_type": "stream",
     "text": [
      "Enter a number2\n",
      "Enter a number3\n"
     ]
    },
    {
     "data": {
      "text/plain": [
       "6"
      ]
     },
     "execution_count": 2,
     "metadata": {},
     "output_type": "execute_result"
    }
   ],
   "source": [
    "a=int(input(\"Enter a number\"))\n",
    "b=int(input(\"Enter a number\"))\n",
    "(lambda x,y:x*y)(a,b)"
   ]
  },
  {
   "cell_type": "markdown",
   "id": "fa2b44d7",
   "metadata": {},
   "source": [
    "using.sort() method, create a lambda function that sorts the list in descending order.refain from using the the reverse parameter"
   ]
  },
  {
   "cell_type": "code",
   "execution_count": 2,
   "id": "d4869b9b",
   "metadata": {},
   "outputs": [
    {
     "data": {
      "text/plain": [
       "[10, 8, 6, 5, 3, 1]"
      ]
     },
     "execution_count": 2,
     "metadata": {},
     "output_type": "execute_result"
    }
   ],
   "source": [
    "list1=[1,5,3,8,6,10]\n",
    "list1.sort(key=lambda x:100/x)\n",
    "list1"
   ]
  },
  {
   "cell_type": "markdown",
   "id": "31de464c",
   "metadata": {},
   "source": [
    "using zip() and dict() function create a dictionary which has its key-value pair comind from list1 and list2"
   ]
  },
  {
   "cell_type": "code",
   "execution_count": 4,
   "id": "ab1dad75",
   "metadata": {},
   "outputs": [
    {
     "data": {
      "text/plain": [
       "{'Sanaz': 20, 'Fatemeh': 19, 'Reyhaneh': 17, 'Rahele': 20, 'Fereshteh': 19}"
      ]
     },
     "execution_count": 4,
     "metadata": {},
     "output_type": "execute_result"
    }
   ],
   "source": [
    "lst1=[\"Sanaz\",\"Fatemeh\",\"Reyhaneh\",\"Rahele\",\"Fereshteh\"]\n",
    "lst2=[20,19,17,20,19]\n",
    "dict(zip(lst1,lst2))"
   ]
  },
  {
   "cell_type": "markdown",
   "id": "d83800d0",
   "metadata": {},
   "source": [
    " write a programme, first returne anew list with absolute values of existing list.find the total sum of new list's elements."
   ]
  },
  {
   "cell_type": "markdown",
   "id": "fb045b60",
   "metadata": {},
   "source": [
    "first method"
   ]
  },
  {
   "cell_type": "code",
   "execution_count": 26,
   "id": "08261ecf",
   "metadata": {},
   "outputs": [
    {
     "name": "stdout",
     "output_type": "stream",
     "text": [
      "newlist2= [1, 2, 3, 4, 6]\n",
      "sum1= 16\n"
     ]
    }
   ],
   "source": [
    "list1=[-1,2,-3,-4,-6]\n",
    "newlist2=[]\n",
    "for i in list1:\n",
    "    if i<0:\n",
    "        newlist2.append(-1*i)\n",
    "    else:\n",
    "        newlist2.append(i)\n",
    "print(\"newlist2=\", newlist2)\n",
    "sum1=sum(newlist2)\n",
    "print(\"sum1=\",sum1)"
   ]
  },
  {
   "cell_type": "markdown",
   "id": "2c00f95f",
   "metadata": {},
   "source": [
    "second method,using map()"
   ]
  },
  {
   "cell_type": "code",
   "execution_count": 29,
   "id": "43178555",
   "metadata": {},
   "outputs": [
    {
     "name": "stdout",
     "output_type": "stream",
     "text": [
      "newlist2=  [1, 2, 3, 4, 6]\n",
      "sum1= 16\n"
     ]
    }
   ],
   "source": [
    "list1=[-1,2,-3,-4,-6]\n",
    "newlist2=list(map(abs,list1))\n",
    "print(\"newlist2= \",newlist2)\n",
    "sum1=sum(newlist2)\n",
    "print(\"sum1=\",sum1)"
   ]
  },
  {
   "cell_type": "markdown",
   "id": "eef3ec40",
   "metadata": {},
   "source": [
    "using map(),lambda(),count().creates a list consisted of the number of occurrence of both letters:a and A"
   ]
  },
  {
   "cell_type": "code",
   "execution_count": 47,
   "id": "a171c5ea",
   "metadata": {},
   "outputs": [
    {
     "data": {
      "text/plain": [
       "[1, 1, 0, 0]"
      ]
     },
     "execution_count": 47,
     "metadata": {},
     "output_type": "execute_result"
    }
   ],
   "source": [
    "list1=[\"Atena\",\"Aida\",\"Sheida\",\"Shiva\"]\n",
    "list2=list(map(lambda x:x.count(\"a\") and x.count(\"A\"),list1))\n",
    "list2"
   ]
  },
  {
   "cell_type": "markdown",
   "id": "583ec541",
   "metadata": {},
   "source": [
    "using filter(),list(),lower().filter all vowels in a given string"
   ]
  },
  {
   "cell_type": "code",
   "execution_count": 2,
   "id": "b57e0f18",
   "metadata": {},
   "outputs": [
    {
     "name": "stdout",
     "output_type": "stream",
     "text": [
      "enter a name: Atena\n"
     ]
    },
    {
     "data": {
      "text/plain": [
       "['a', 'e', 'a']"
      ]
     },
     "execution_count": 2,
     "metadata": {},
     "output_type": "execute_result"
    }
   ],
   "source": [
    "str1=input(\"enter a name: \")\n",
    "str2=str1.lower()\n",
    "v=(\"a\",\"e\",\"u\",\"o\",\"i\")\n",
    "def vowel(x):\n",
    "    return x in v\n",
    "str3=list(filter(vowel,str2))\n",
    "str3"
   ]
  },
  {
   "cell_type": "code",
   "execution_count": null,
   "id": "634ec39f",
   "metadata": {},
   "outputs": [],
   "source": []
  }
 ],
 "metadata": {
  "kernelspec": {
   "display_name": "Python 3 (ipykernel)",
   "language": "python",
   "name": "python3"
  },
  "language_info": {
   "codemirror_mode": {
    "name": "ipython",
    "version": 3
   },
   "file_extension": ".py",
   "mimetype": "text/x-python",
   "name": "python",
   "nbconvert_exporter": "python",
   "pygments_lexer": "ipython3",
   "version": "3.11.4"
  }
 },
 "nbformat": 4,
 "nbformat_minor": 5
}
