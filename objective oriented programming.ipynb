{
 "cells": [
  {
   "cell_type": "markdown",
   "id": "b3259d3b",
   "metadata": {},
   "source": [
    "write a programme with OOP which can recognize that your username and password are correct or not"
   ]
  },
  {
   "cell_type": "code",
   "execution_count": 4,
   "id": "b5be14e9",
   "metadata": {},
   "outputs": [
    {
     "name": "stdout",
     "output_type": "stream",
     "text": [
      "enter a username: Atena\n",
      "enter a password: 1234\n",
      "CORRECT\n"
     ]
    }
   ],
   "source": [
    "n1=input(\"enter a username: \")\n",
    "n2=input(\"enter a password: \")\n",
    "class Varification:\n",
    "    def __init__(self,u,p):\n",
    "        self.username=u\n",
    "        self.password=p\n",
    "        if self.username==n1 and self.password==n2:\n",
    "            print(\"CORRECT\")\n",
    "        else:\n",
    "            print(\"NOT CORRECT\")\n",
    "v1=Varification(\"Atena\",\"1234\")"
   ]
  },
  {
   "cell_type": "markdown",
   "id": "a39074b8",
   "metadata": {},
   "source": [
    "write a programme with OOP which creates a class to calculate the area and perimeter of a quadrilateral. Next, create the square class, which completely inherits from the quadrilateral class, and finally create the cube class, which inherits from the square class to calculate the surface area and volume of the cube.\n"
   ]
  },
  {
   "cell_type": "code",
   "execution_count": 1,
   "id": "5563f5f8",
   "metadata": {},
   "outputs": [
    {
     "name": "stdout",
     "output_type": "stream",
     "text": [
      "enter the width:  4\n",
      "enter the length: 5\n",
      "Fourside.primeter: 18\n",
      "Fourside.area: 20\n",
      "Square.primeter: 20\n",
      "Square.area: 25\n",
      "Cube.volume: 125\n",
      "Cube.area: 150\n"
     ]
    }
   ],
   "source": [
    "w=int(input(\"enter the width:  \"))\n",
    "l=int(input(\"enter the length: \" ))\n",
    "class Fourside:\n",
    "    def __init__ (self,length,width):\n",
    "        self.length=length\n",
    "        self.width=width\n",
    "    def primeter(self):\n",
    "            return((self.width+self.length)*2)\n",
    "    def area(self):\n",
    "            return(self.width*self.length)\n",
    "        \n",
    "class Square(Fourside):\n",
    "    def __init__(self,length):\n",
    "        super().__init__(length,length)\n",
    "        \n",
    "class Cube(Square):\n",
    "        def cubevolume(self):\n",
    "            return super().area()*self.length\n",
    "        def cubearea(self):\n",
    "            return super().area()*6\n",
    "f1=Fourside(w,l)\n",
    "print(\"Fourside.primeter:\",f1.primeter())  \n",
    "print(\"Fourside.area:\",f1.area())\n",
    "s1=Square(l)\n",
    "print(\"Square.primeter:\",s1.primeter())\n",
    "print(\"Square.area:\",s1.area())\n",
    "c1=Cube(l)\n",
    "print(\"Cube.volume:\",c1.cubevolume())\n",
    "print(\"Cube.area:\",c1.cubearea())"
   ]
  },
  {
   "cell_type": "code",
   "execution_count": null,
   "id": "f83174aa",
   "metadata": {},
   "outputs": [],
   "source": []
  }
 ],
 "metadata": {
  "kernelspec": {
   "display_name": "Python 3 (ipykernel)",
   "language": "python",
   "name": "python3"
  },
  "language_info": {
   "codemirror_mode": {
    "name": "ipython",
    "version": 3
   },
   "file_extension": ".py",
   "mimetype": "text/x-python",
   "name": "python",
   "nbconvert_exporter": "python",
   "pygments_lexer": "ipython3",
   "version": "3.11.4"
  }
 },
 "nbformat": 4,
 "nbformat_minor": 5
}
