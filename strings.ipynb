{
 "cells": [
  {
   "cell_type": "code",
   "execution_count": 1,
   "id": "e9f3c60a",
   "metadata": {},
   "outputs": [],
   "source": [
    "#string"
   ]
  },
  {
   "cell_type": "code",
   "execution_count": 2,
   "id": "a9cf5b55",
   "metadata": {},
   "outputs": [],
   "source": [
    "str1='HELLO WORLD!'"
   ]
  },
  {
   "cell_type": "code",
   "execution_count": 4,
   "id": "c111588f",
   "metadata": {},
   "outputs": [
    {
     "data": {
      "text/plain": [
       "True"
      ]
     },
     "execution_count": 4,
     "metadata": {},
     "output_type": "execute_result"
    }
   ],
   "source": [
    "'RLD' in str1"
   ]
  },
  {
   "cell_type": "code",
   "execution_count": 23,
   "id": "74a61933",
   "metadata": {},
   "outputs": [
    {
     "name": "stdout",
     "output_type": "stream",
     "text": [
      "2295901550320\n",
      "2295901550320\n",
      "2295901091568\n"
     ]
    }
   ],
   "source": [
    "STR1='HI'\n",
    "STR2='HI'\n",
    "STR3='BYE'\n",
    "print(id(STR1))\n",
    "print(id(STR2))\n",
    "print(id(STR3))\n"
   ]
  },
  {
   "cell_type": "code",
   "execution_count": 10,
   "id": "a6059708",
   "metadata": {},
   "outputs": [
    {
     "data": {
      "text/plain": [
       "True"
      ]
     },
     "execution_count": 10,
     "metadata": {},
     "output_type": "execute_result"
    }
   ],
   "source": [
    "STR1 is STR2"
   ]
  },
  {
   "cell_type": "code",
   "execution_count": 11,
   "id": "41610adc",
   "metadata": {},
   "outputs": [],
   "source": [
    "#string methods"
   ]
  },
  {
   "cell_type": "code",
   "execution_count": 12,
   "id": "0d91e773",
   "metadata": {},
   "outputs": [],
   "source": [
    "str4='Hello world!'"
   ]
  },
  {
   "cell_type": "code",
   "execution_count": 14,
   "id": "442eb34e",
   "metadata": {},
   "outputs": [
    {
     "data": {
      "text/plain": [
       "'HELLO WORLD!'"
      ]
     },
     "execution_count": 14,
     "metadata": {},
     "output_type": "execute_result"
    }
   ],
   "source": [
    "str4.upper()"
   ]
  },
  {
   "cell_type": "code",
   "execution_count": 15,
   "id": "f00a403e",
   "metadata": {},
   "outputs": [
    {
     "data": {
      "text/plain": [
       "'WORLD!'"
      ]
     },
     "execution_count": 15,
     "metadata": {},
     "output_type": "execute_result"
    }
   ],
   "source": [
    "str4[6:].upper()"
   ]
  },
  {
   "cell_type": "code",
   "execution_count": 16,
   "id": "1d234cd6",
   "metadata": {},
   "outputs": [
    {
     "data": {
      "text/plain": [
       "'hello world!'"
      ]
     },
     "execution_count": 16,
     "metadata": {},
     "output_type": "execute_result"
    }
   ],
   "source": [
    "str1.lower()"
   ]
  },
  {
   "cell_type": "code",
   "execution_count": 18,
   "id": "4b2f4a68",
   "metadata": {},
   "outputs": [
    {
     "data": {
      "text/plain": [
       "3"
      ]
     },
     "execution_count": 18,
     "metadata": {},
     "output_type": "execute_result"
    }
   ],
   "source": [
    "str4.count('l')"
   ]
  },
  {
   "cell_type": "code",
   "execution_count": 19,
   "id": "01f8a42d",
   "metadata": {},
   "outputs": [
    {
     "data": {
      "text/plain": [
       "12"
      ]
     },
     "execution_count": 19,
     "metadata": {},
     "output_type": "execute_result"
    }
   ],
   "source": [
    "len(str4)"
   ]
  },
  {
   "cell_type": "code",
   "execution_count": 21,
   "id": "877e50e6",
   "metadata": {},
   "outputs": [
    {
     "data": {
      "text/plain": [
       "9"
      ]
     },
     "execution_count": 21,
     "metadata": {},
     "output_type": "execute_result"
    }
   ],
   "source": [
    "str4.find('l',4)"
   ]
  },
  {
   "cell_type": "code",
   "execution_count": null,
   "id": "3b9c939e",
   "metadata": {},
   "outputs": [],
   "source": []
  }
 ],
 "metadata": {
  "kernelspec": {
   "display_name": "Python 3 (ipykernel)",
   "language": "python",
   "name": "python3"
  },
  "language_info": {
   "codemirror_mode": {
    "name": "ipython",
    "version": 3
   },
   "file_extension": ".py",
   "mimetype": "text/x-python",
   "name": "python",
   "nbconvert_exporter": "python",
   "pygments_lexer": "ipython3",
   "version": "3.11.4"
  }
 },
 "nbformat": 4,
 "nbformat_minor": 5
}
